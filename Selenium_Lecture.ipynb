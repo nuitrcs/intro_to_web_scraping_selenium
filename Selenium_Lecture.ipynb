{
 "cells": [
  {
   "cell_type": "markdown",
   "id": "c19f8def-e3d0-4fe4-8874-d57b25e1667f",
   "metadata": {},
   "source": [
    "# Getting started"
   ]
  },
  {
   "cell_type": "code",
   "execution_count": null,
   "id": "085e7d0e-91c2-4759-8256-be798db3736a",
   "metadata": {},
   "outputs": [],
   "source": [
    "from selenium import webdriver\n",
    "import pandas as pd\n",
    "import numpy as np\n",
    "\n",
    "from selenium import webdriver\n",
    "from selenium.webdriver.chrome.service import Service as ChromeService\n",
    "from webdriver_manager.chrome import ChromeDriverManager"
   ]
  },
  {
   "cell_type": "markdown",
   "id": "52f8b2d0-e21b-481c-819c-297f569c1f33",
   "metadata": {},
   "source": [
    "To open Chrome through selenium, the command is generally webdriver.Chrome(CHROMEDRIVER_PATH). To retrieve CHROMEDRIVER_PATH, use ChromeDriverManager"
   ]
  },
  {
   "cell_type": "code",
   "execution_count": null,
   "id": "b7e5cf15-3768-4ba3-876c-d0578eccee01",
   "metadata": {},
   "outputs": [],
   "source": [
    "driver = webdriver.Chrome(service=ChromeService(ChromeDriverManager().install()))"
   ]
  },
  {
   "cell_type": "markdown",
   "id": "6b0c8ffd-bcb3-4f50-b3c0-5fbc685932f3",
   "metadata": {},
   "source": [
    "# Basics\n",
    "To open a website, you can use driver.get() method."
   ]
  },
  {
   "cell_type": "code",
   "execution_count": null,
   "id": "20ab9c20-23c3-4a91-ad0a-5711b7109fc7",
   "metadata": {},
   "outputs": [],
   "source": [
    "driver.get(\"https://en.wikipedia.org/wiki/Northwestern_University\")"
   ]
  },
  {
   "cell_type": "markdown",
   "id": "48f40800-5dc0-447a-a8fc-a52339e36573",
   "metadata": {},
   "source": [
    "The webdriver allows you to interact with the browser window in various ways such as\n",
    "+ Get window size"
   ]
  },
  {
   "cell_type": "code",
   "execution_count": null,
   "id": "f5756194-113a-404c-93b8-52297f1d429d",
   "metadata": {},
   "outputs": [],
   "source": [
    "# driver.get_window_size()"
   ]
  },
  {
   "cell_type": "markdown",
   "id": "273b1315-e3ec-448d-ab31-725de5f3ebad",
   "metadata": {},
   "source": [
    "+ Set window size"
   ]
  },
  {
   "cell_type": "code",
   "execution_count": null,
   "id": "f239cb54-d4f2-479e-9094-1f1c6d385a8a",
   "metadata": {},
   "outputs": [],
   "source": [
    "# driver.set_window_size(800, 600)"
   ]
  },
  {
   "cell_type": "markdown",
   "id": "d38a463e-b4aa-4db6-afc4-21bdf4745c46",
   "metadata": {},
   "source": [
    "+ Get window position"
   ]
  },
  {
   "cell_type": "code",
   "execution_count": null,
   "id": "c7987dcf-2e50-4429-9337-61e6a41e21d9",
   "metadata": {},
   "outputs": [],
   "source": [
    "# driver.get_window_position()"
   ]
  },
  {
   "cell_type": "markdown",
   "id": "0cc1c167-3869-4081-b067-d819a5bf96ad",
   "metadata": {},
   "source": [
    "+ Set window position"
   ]
  },
  {
   "cell_type": "code",
   "execution_count": null,
   "id": "1d732165-5632-46a2-b995-8c8c2971871f",
   "metadata": {},
   "outputs": [],
   "source": [
    "# driver.set_window_position(100, 100)"
   ]
  },
  {
   "cell_type": "markdown",
   "id": "1a8782fd-cea0-4ccf-966c-2790ecd2129c",
   "metadata": {},
   "source": [
    "+ Minimize window"
   ]
  },
  {
   "cell_type": "code",
   "execution_count": null,
   "id": "c7e752f1-550b-4274-b8e9-d5e249ec63ad",
   "metadata": {},
   "outputs": [],
   "source": [
    "#driver.minimize_window()"
   ]
  },
  {
   "cell_type": "markdown",
   "id": "82e9d797-e3c1-4bcc-8575-d33df1343588",
   "metadata": {},
   "source": [
    "+ Maximize window"
   ]
  },
  {
   "cell_type": "code",
   "execution_count": null,
   "id": "b6a6bb50-2f38-4e0c-af5c-be1e53b365ec",
   "metadata": {},
   "outputs": [],
   "source": [
    "# driver.maximize_window()"
   ]
  },
  {
   "cell_type": "markdown",
   "id": "f9381f01-ee31-4482-b4b1-8fa07277df2e",
   "metadata": {},
   "source": [
    "+ Get the website title"
   ]
  },
  {
   "cell_type": "code",
   "execution_count": null,
   "id": "c632ffac-b5ff-4e7d-91ff-671c066ba8c4",
   "metadata": {},
   "outputs": [],
   "source": [
    "# driver.title"
   ]
  },
  {
   "cell_type": "markdown",
   "id": "03cf66d4-ada5-4eaa-8db1-60968831ca19",
   "metadata": {},
   "source": [
    "+ Take a screen shot of the page"
   ]
  },
  {
   "cell_type": "code",
   "execution_count": null,
   "id": "030167ab-94f7-4928-82c6-8aab99b1ac75",
   "metadata": {},
   "outputs": [],
   "source": [
    "# driver.get_screenshot_as_file('./test.png')"
   ]
  },
  {
   "cell_type": "markdown",
   "id": "e6812d25-d772-47c7-bf69-0e49782d05d4",
   "metadata": {},
   "source": [
    "For a complete list of properties and methods, you can go to the WebDriver's documention https://www.selenium.dev/selenium/docs/api/py/webdriver_remote/selenium.webdriver.remote.webdriver.html"
   ]
  },
  {
   "cell_type": "markdown",
   "id": "fb785b26-cfaf-4695-81d7-5d4f68599f07",
   "metadata": {},
   "source": [
    "To shutdown the driver and close the website, use the quit method."
   ]
  },
  {
   "cell_type": "code",
   "execution_count": null,
   "id": "c4323a63-a4e0-401e-9bcf-187e44925f89",
   "metadata": {},
   "outputs": [],
   "source": [
    "# driver.quit()"
   ]
  },
  {
   "cell_type": "markdown",
   "id": "4244ecf9-a51f-4afc-b401-4a7808c34305",
   "metadata": {},
   "source": [
    "### Headless mode\n",
    "Headless mode runs the window in the background without displaying it. You can configure ChromeDriver to open browser in headless mode with the following code."
   ]
  },
  {
   "cell_type": "code",
   "execution_count": null,
   "id": "dd80c04d-afaf-4b6d-ae26-42a5adb50d9f",
   "metadata": {},
   "outputs": [],
   "source": [
    "# from selenium.webdriver.chrome.options import Options\n",
    "\n",
    "# options = Options()\n",
    "# options.add_argument('--headless=new')\n",
    "# driver = webdriver.Chrome(ChromeDriverManager().install(), options=options)"
   ]
  },
  {
   "cell_type": "code",
   "execution_count": null,
   "id": "a409f43e-8dcc-4ad2-9f5d-a81cf74e8e7d",
   "metadata": {},
   "outputs": [],
   "source": [
    "# driver.quit()"
   ]
  },
  {
   "cell_type": "markdown",
   "id": "b97fce1b-2aa6-42d5-a775-f8e7797ce9e7",
   "metadata": {},
   "source": [
    "For webscraping, we recommend opening the browser because it allows you to observe and inspect the website elements. Headless mode may be used after you are done with development. "
   ]
  },
  {
   "cell_type": "markdown",
   "id": "eb9988dc-ea86-420b-8e1c-a04cbd487311",
   "metadata": {},
   "source": [
    "# Interacting with website content"
   ]
  },
  {
   "cell_type": "markdown",
   "id": "049733c5-89f6-489f-9b51-f93adfdc020b",
   "metadata": {},
   "source": [
    "## Understanding HTML\n",
    "\n",
    "HyperText Markup Language (HTML) is a language used to create the basic structures of a website. In order to retrieve information from a website, we need to be able to read and understand, to some extent, HTML script.\n",
    "\n",
    "#### HTML source code\n",
    "The source code of a webiste let you see the elements that are handled on the page as well as paths/links to other features such as images or audios. \n",
    "\n",
    "To get the HTML code of the website, you can right click on any blank space and select \"View Page Source\". You can also right click on a specific object and click \"Inspect\". This will direct you to where the object is located in the source code.\n",
    "\n",
    "You can also load the page source in python using the ChromeDriverManager."
   ]
  },
  {
   "cell_type": "code",
   "execution_count": null,
   "id": "a6c863f4-7023-4a41-bcf8-23401c32cffb",
   "metadata": {},
   "outputs": [],
   "source": [
    "# driver = webdriver.Chrome(ChromeDriverManager().install())\n",
    "# driver.get(\"https://en.wikipedia.org/wiki/Northwestern_University\")"
   ]
  },
  {
   "cell_type": "code",
   "execution_count": null,
   "id": "e92bdfee-4695-40d2-91c2-2690478457a9",
   "metadata": {},
   "outputs": [],
   "source": [
    "# psource = driver.page_source"
   ]
  },
  {
   "cell_type": "markdown",
   "id": "75eae1a5-3a29-4f31-b11f-047c73f907ec",
   "metadata": {},
   "source": [
    "#### HTML elements\n",
    "\n",
    "There are several types of HTML elements and each is specified by a tag name. Below are some of the most common tags you will see (Credit: Aaron Geller). \n",
    "![alt text](HTMLTags.png \"Examples of HTML tags\")\n",
    "\n",
    "Depending on your goals and the type of information you are looking for, you may encounter other tags such as ```<table>```, ```<video>```, ```<audio>```, ```<data>```, etc. \n",
    "\n",
    "#### HTML attributes\n",
    "\n",
    "Attributes describe certain property of a HTML tag and ther are also different types of attributes. The most import ones for webscraping are \"id\", \"class\", and \"name\".\n",
    "+ \"id\": specify a unique ID and the value can only be used once in the HTML\n",
    "+ \"class\": define equal styles for HTML tags and can be reused. \n",
    "+ \"name\": used on the form controls to relate how data is labeled when sent to server, and multiple elements may share the same name."
   ]
  },
  {
   "cell_type": "markdown",
   "id": "449d979e-6486-475f-90bd-8f8a5f9f1665",
   "metadata": {},
   "source": [
    "## Retrieving website content in Python\n",
    "\n",
    "#### Scraping Rules\n",
    "\n",
    "1. You should check a website’s Terms and Conditions before you scrape it. Be careful to read the statements about legal use of data. Usually, the data you scrape should not be used for commercial purposes.\n",
    "2. Do not request data from the website too aggressively with your program (also known as spamming), as this may break the website. Make sure your program behaves in a reasonable manner (i.e. acts like a human). One request for one webpage per second is good practice.\n",
    "3. The layout of a website may change from time to time, so make sure to revisit the site and rewrite your code as needed\n",
    "\n",
    "(Source: https://www.freecodecamp.org/news/how-to-scrape-websites-with-python-and-beautifulsoup-5946935d93fe/)"
   ]
  },
  {
   "cell_type": "markdown",
   "id": "d834548a-8ebf-4893-8f7c-76f6edc0e0ab",
   "metadata": {},
   "source": [
    "Selenium supports 2 method(s) for webscraping\n",
    "- find_element: return the first element that matches a condition\n",
    "- find elements: return a list of all elements found\n",
    "\n",
    "We can search elements by eight different attributes as indicated by the By class."
   ]
  },
  {
   "cell_type": "code",
   "execution_count": null,
   "id": "36ab3baf-7260-4049-ac9f-0b98f18713da",
   "metadata": {},
   "outputs": [],
   "source": [
    "from selenium.webdriver.common.by import By"
   ]
  },
  {
   "cell_type": "code",
   "execution_count": null,
   "id": "f8b5724c-17b0-4b8c-880a-36e06554c44c",
   "metadata": {},
   "outputs": [],
   "source": [
    "for k in dir(By):\n",
    "    if not k.startswith(\"__\"):\n",
    "        print(k)"
   ]
  },
  {
   "cell_type": "markdown",
   "id": "2ca6210c-bc7c-4a7c-a245-3a3159dd3b28",
   "metadata": {},
   "source": [
    "The general syntax is:\n",
    "\n",
    "driver.find_elements(By.[__attribute__], [__attribute_value__])\n",
    "\n",
    "| Attribute | Search condition | HTML Script Example | Usage |\n",
    "|:--------:|:--------:|:--------:|:------------------------:|\n",
    "| ID | HTML ID | ```<div id=\"myID\">``` | (By.ID, \"myID\")|\n",
    "| NAME | HTML name | ```<input name=\"myNAME\">``` | (By.NAME, \"myName\")|\n",
    "| CLASS_NAME | HTML class | ```<div class=\"myCLASS\">``` | (By.CLASS_NAME, \"myCLASS\")|\n",
    "| TAG_NAME | HTML tag | ```<h1>Welcome</h1>``` | (By.TAG_NAME, \"h1\")|\n",
    "| LINK_TEXT | Text content of a link | ```<a href=\"something.html\">myLINK</a>``` | (By.LINK_TEXT, \"myLINK\")|\n",
    "| PARTIAL_LINK_TEXT | substring of text content |  ```<a href=\"something.html\">myLINK</a>``` | (By.PARTIAL_LINK_TEXT, \"LINK\")|\n",
    "<!-- | XPATH | XPATH expression |  -->\n",
    "\n",
    "Selenium documentation does a good job of explaining how to make use of these attributes and can be found at https://selenium-python.readthedocs.io/locating-elements.html. For this workshop, we will go over TAG_NAME, CLASS_NAME, XPATH, and LINK_TEXT attribute."
   ]
  },
  {
   "cell_type": "markdown",
   "id": "ee1101e0-952a-4e21-97e7-cbd0bb782390",
   "metadata": {},
   "source": [
    "#### TAG_NAME\n",
    "\n",
    "As the name suggests, you can search and obtain an element if you know its tag in the HTML source code."
   ]
  },
  {
   "cell_type": "code",
   "execution_count": null,
   "id": "b1581179-f03c-4cc8-a2b5-f1c4fc54a037",
   "metadata": {},
   "outputs": [],
   "source": [
    "# driver = webdriver.Chrome(ChromeDriverManager().install())\n",
    "driver.get(\"https://www.nfl.com/stats/player-stats/\")"
   ]
  },
  {
   "cell_type": "markdown",
   "id": "1ca15b46-c725-4b67-8544-8ee227a28154",
   "metadata": {},
   "source": [
    "Exercise: Write code to retrieve the second header on the page"
   ]
  },
  {
   "cell_type": "code",
   "execution_count": null,
   "id": "7ddca694-fca2-4193-a413-f4a8bc5d1180",
   "metadata": {},
   "outputs": [],
   "source": [
    "# header = "
   ]
  },
  {
   "cell_type": "code",
   "execution_count": null,
   "id": "a66ee726-a8e0-46ad-bc19-2c69568e941e",
   "metadata": {},
   "outputs": [],
   "source": [
    "# print(header)"
   ]
  },
  {
   "cell_type": "markdown",
   "id": "85e940bb-50e5-43eb-b615-5f03075a8f2f",
   "metadata": {},
   "source": [
    "To get the text content from the Selenium object, "
   ]
  },
  {
   "cell_type": "code",
   "execution_count": null,
   "id": "82d7f60c-e9bb-4cbb-bf3a-f4b6b036427d",
   "metadata": {},
   "outputs": [],
   "source": [
    "print(header[0].text)"
   ]
  },
  {
   "cell_type": "markdown",
   "id": "45b489eb-17c2-45e5-9e73-c4e3dde222d0",
   "metadata": {},
   "source": [
    "You can also find the tag of an element using \"Inspect\" and use that to retrieve the data in Python."
   ]
  },
  {
   "cell_type": "code",
   "execution_count": null,
   "id": "2cd75d35-510d-4c29-92e0-6bf67aec3f1b",
   "metadata": {},
   "outputs": [],
   "source": [
    "table = driver.find_elements(By.TAG_NAME, \"table\")"
   ]
  },
  {
   "cell_type": "code",
   "execution_count": null,
   "id": "941617e8-8fd7-48ab-8510-cc6d79606cb6",
   "metadata": {},
   "outputs": [],
   "source": [
    "# print(table[0].text)"
   ]
  },
  {
   "cell_type": "markdown",
   "id": "b41188de-fb2d-46c8-864d-d42016dcb82a",
   "metadata": {},
   "source": [
    "#### CLASS_NAME"
   ]
  },
  {
   "cell_type": "markdown",
   "id": "31ac0874-2497-43b0-98de-1cf32c6e7c37",
   "metadata": {},
   "source": [
    "Example: Write code to retrieve the list of players"
   ]
  },
  {
   "cell_type": "code",
   "execution_count": null,
   "id": "89007e5d-2143-4bfa-bebe-21c1d1e1791c",
   "metadata": {},
   "outputs": [],
   "source": [
    "# players = "
   ]
  },
  {
   "cell_type": "code",
   "execution_count": null,
   "id": "c6390f17-07d1-4af3-9b32-2eca7c62ab7a",
   "metadata": {},
   "outputs": [],
   "source": [
    "# player_list = []\n",
    "# for p in players:\n",
    "#     player_list.append(p.text)\n",
    "# print(player_list)"
   ]
  },
  {
   "cell_type": "markdown",
   "id": "5d1d1a08-dcdd-48b2-b3e0-426c5c04f187",
   "metadata": {},
   "source": [
    "If you use the class name \"d3-o-player-fullname nfl-o-cta--link\", the code may return an empty list. Pay close attention to the associated HTML tag. The tag for this class is ```<a>```, which specifies links. What you want to look for is the one above associated with ```<div>```."
   ]
  },
  {
   "cell_type": "markdown",
   "id": "6b909665-4edd-4264-b221-e30f3e9370cb",
   "metadata": {},
   "source": [
    "Exercise: Write code to retrieve the passing yards data"
   ]
  },
  {
   "cell_type": "code",
   "execution_count": null,
   "id": "abfd9b6b-810e-448c-8d0f-a2757fc28a52",
   "metadata": {},
   "outputs": [],
   "source": [
    "# yds = "
   ]
  },
  {
   "cell_type": "code",
   "execution_count": null,
   "id": "14bdcdd8-8dbb-447d-8e45-e7acba864684",
   "metadata": {},
   "outputs": [],
   "source": [
    "# yds_list = []\n",
    "# for y in yds:\n",
    "#     yds_list.append(y.text)\n",
    "# print(yds_list)"
   ]
  },
  {
   "cell_type": "markdown",
   "id": "d5017094-e911-412f-b4f4-2432fe5e7853",
   "metadata": {},
   "source": [
    "### XPATH\n",
    "\n",
    "XPath is the language used for locating nodes in an XML document.\n",
    "\n",
    "Some vocabularies\n",
    "- node: different types including root, element and attribute node\n",
    "- parent: the immediate element containing the current one. E.g.: _html_ is the parent of _body_\n",
    "- children: the immediate elements contained by the current one. E.g.: _body_ is the children of _head_\n",
    "- siblings: nodes on the same level as the current element.\n",
    "\n",
    "\n",
    "Some syntax\n",
    "| Syntax | Description | Example | Explanation |\n",
    "|:--------:|:--------:|:------------------------:|:--------:|\n",
    "| / | Select from the root node. Useful for writing absolute path| /html/body/div[1]/form[1]| Select the first _form_ tag |\n",
    "| // | Select a node regardless of where you are | //form[1] | Select the first _form_ tag |\n",
    "| tag name | Selects all nodes with this tag name | form | Select all node correspond to _form_ tag |\n",
    "| @ | Select an attribute | //input[@name=\"email\"] or //input/@name | Select all _input_ tag that have the \"email\" name attribute |\n",
    "| .. | Select the parent of a node | //form/.. | Select the parent tag of each _form_ node\n",
    "\n",
    "(Source: https://www.scrapingbee.com/blog/practical-xpath-for-web-scraping/)"
   ]
  },
  {
   "cell_type": "code",
   "execution_count": null,
   "id": "e4d72c91-d34e-4934-aa78-24e48b9e25b4",
   "metadata": {},
   "outputs": [],
   "source": [
    "table = driver.find_elements(By.XPATH, '//table')\n",
    "print(table[0].text)"
   ]
  },
  {
   "cell_type": "markdown",
   "id": "dbcc5504-01f6-4d97-a115-38e56f080679",
   "metadata": {},
   "source": [
    "Exercise: Write code to get the list of players using By.XPATH"
   ]
  },
  {
   "cell_type": "code",
   "execution_count": null,
   "id": "f6afe20e-fdc1-4617-85a8-43eff0cae652",
   "metadata": {},
   "outputs": [],
   "source": [
    "# players = "
   ]
  },
  {
   "cell_type": "code",
   "execution_count": null,
   "id": "03deb4e4-3676-4d36-aec1-65eaa6ca5270",
   "metadata": {},
   "outputs": [],
   "source": [
    "# for p in players:\n",
    "#     print(p.text)"
   ]
  },
  {
   "cell_type": "markdown",
   "id": "d916c683-2400-4bea-bedb-91b28a8999f8",
   "metadata": {},
   "source": [
    "#### LINK_TEXT"
   ]
  },
  {
   "cell_type": "code",
   "execution_count": null,
   "id": "4c9392cd-539a-47be-9e47-f0e4198a6c57",
   "metadata": {},
   "outputs": [],
   "source": [
    "player = driver.find_element(By.LINK_TEXT, \"Tua Tagovailoa\")"
   ]
  },
  {
   "cell_type": "markdown",
   "id": "6233066e-585f-481f-af16-04fdfedc12de",
   "metadata": {},
   "source": [
    "You can go to the embedded website by using the click method."
   ]
  },
  {
   "cell_type": "code",
   "execution_count": null,
   "id": "21a03808-e1f7-4d2b-bf43-9a5d8751d5f2",
   "metadata": {},
   "outputs": [],
   "source": [
    "player.click()"
   ]
  },
  {
   "cell_type": "markdown",
   "id": "ac18f3bb-f303-4ecd-80e4-4196383df7f6",
   "metadata": {},
   "source": [
    "To navigate to the previous page,"
   ]
  },
  {
   "cell_type": "code",
   "execution_count": null,
   "id": "dc9c7652-5543-42bd-a708-b009d97950b5",
   "metadata": {},
   "outputs": [],
   "source": [
    "driver.back()"
   ]
  },
  {
   "cell_type": "markdown",
   "id": "a9ea4cf3-bbdc-4b2e-91ad-b66b18e253ae",
   "metadata": {},
   "source": [
    "## Bonus\n",
    "\n",
    "#### WebDriverWait\n",
    "\n",
    "It is possible that you may need to wait for a few (or more) seconds for the site to load all necessary content. It is important to account for this, especially if you want to run your code in headless mode. WebDriverWait waits for specific conditions before proceeding and is often accompanied by some expected conditions. Some of them are\n",
    "\n",
    "+ presence_of_element_located: an HTML element is present.\n",
    "+ visibility_of: an element becomes visible.\n",
    "+ element_to_be_clickable: an HTML element is clickable.\n",
    "\n",
    "More details can be found in the Selenium documentation https://selenium-python.readthedocs.io/waits.html."
   ]
  },
  {
   "cell_type": "code",
   "execution_count": null,
   "id": "4e4c5c8d-21c4-4aef-a1da-df0a5dfca399",
   "metadata": {},
   "outputs": [],
   "source": [
    "from selenium.webdriver.support.ui import WebDriverWait\n",
    "from selenium.webdriver.support import expected_conditions as EC"
   ]
  },
  {
   "cell_type": "code",
   "execution_count": null,
   "id": "05729c74-bc94-4659-a145-e8b4493b3391",
   "metadata": {},
   "outputs": [],
   "source": [
    "player = WebDriverWait(driver, 10).until(EC.element_to_be_clickable((By.LINK_TEXT, \"Tua Tagovailoa\")))"
   ]
  },
  {
   "cell_type": "code",
   "execution_count": null,
   "id": "c2a0657a-2449-4f6b-bd61-3e69c3396278",
   "metadata": {},
   "outputs": [],
   "source": [
    "player.click()"
   ]
  },
  {
   "cell_type": "code",
   "execution_count": null,
   "id": "3c769494-aaa8-4599-abdd-045e02dd93f4",
   "metadata": {},
   "outputs": [],
   "source": [
    "driver.back()"
   ]
  },
  {
   "cell_type": "markdown",
   "id": "e3256028-4154-4fb0-b100-1c0f7f511d16",
   "metadata": {},
   "source": [
    "Suppose you try for an element that may not be present in the script."
   ]
  },
  {
   "cell_type": "code",
   "execution_count": null,
   "id": "389d1042-7926-4c8b-8fd8-0d6ffd6a00f2",
   "metadata": {},
   "outputs": [],
   "source": [
    "player = WebDriverWait(driver, 10).until(EC.element_to_be_clickable((By.LINK_TEXT, \"Travis Kelce\")))"
   ]
  },
  {
   "cell_type": "code",
   "execution_count": null,
   "id": "5ddc0179-7dda-4111-a5e4-93bf3d8e9b10",
   "metadata": {},
   "outputs": [],
   "source": [
    "from selenium.common.exceptions import TimeoutException"
   ]
  },
  {
   "cell_type": "code",
   "execution_count": null,
   "id": "8b21862c-541e-4697-a698-cd4407ef705d",
   "metadata": {},
   "outputs": [],
   "source": [
    "try:\n",
    "    player = WebDriverWait(driver, 10).until(EC.element_to_be_clickable((By.LINK_TEXT, \"Travis Kelce\")))\n",
    "except TimeoutException:\n",
    "    player = []"
   ]
  },
  {
   "cell_type": "code",
   "execution_count": null,
   "id": "b04458f3-202a-49a8-a162-f22d4d7fef6c",
   "metadata": {},
   "outputs": [],
   "source": [
    "player"
   ]
  },
  {
   "cell_type": "markdown",
   "id": "70d05f6b-0b56-4749-8a19-8f31d36d9bab",
   "metadata": {},
   "source": [
    "Exercise: Write code to retrieve the link and navigate to the next page"
   ]
  },
  {
   "cell_type": "code",
   "execution_count": null,
   "id": "8ef6b7ec-cf6f-4f9c-8e26-18b25a6e09ca",
   "metadata": {},
   "outputs": [],
   "source": [
    "# next = "
   ]
  },
  {
   "cell_type": "code",
   "execution_count": null,
   "id": "cc096cab-bcd1-459c-ab1e-c50c25436cbd",
   "metadata": {},
   "outputs": [],
   "source": [
    "# next.click()"
   ]
  },
  {
   "cell_type": "code",
   "execution_count": null,
   "id": "f3d4fada-9328-46d3-bf2d-d0a2fc222be0",
   "metadata": {},
   "outputs": [],
   "source": [
    "# driver.back()"
   ]
  },
  {
   "cell_type": "markdown",
   "id": "1ad029bf-87c2-499e-83e1-6c7e1aac71e2",
   "metadata": {},
   "source": [
    "If you encounter ElementClickInterceptedException error, it's possible that there are other blocking elements. A quick fix is to scroll down to where the element is visible. You can do that interactively or with Python code. \n",
    "\n",
    "The execute_script method executes JavaScript in the current window and, thus helps us interact with a website.\n",
    "\n",
    "#### Scrolling"
   ]
  },
  {
   "cell_type": "code",
   "execution_count": null,
   "id": "e18c41b3-b566-4a9d-a3cf-bfbdf088280f",
   "metadata": {},
   "outputs": [],
   "source": [
    "# Get scroll height\n",
    "driver.execute_script(\"return document.documentElement.scrollHeight\")"
   ]
  },
  {
   "cell_type": "code",
   "execution_count": null,
   "id": "d7606ea9-b791-4f25-b779-aa549295725a",
   "metadata": {},
   "outputs": [],
   "source": [
    "# From top to end of page\n",
    "driver.execute_script(\"window.scrollTo(0, document.body.scrollHeight);\")"
   ]
  },
  {
   "cell_type": "code",
   "execution_count": null,
   "id": "61dfd735-a469-4247-a39c-b4531d954d7b",
   "metadata": {},
   "outputs": [],
   "source": [
    "# From end to top of page\n",
    "driver.execute_script(\"window.scrollTo(document.body.scrollHeight, 0);\")"
   ]
  },
  {
   "cell_type": "markdown",
   "id": "5b1adf5e-27d4-4fbe-b418-f154cfc5a9d0",
   "metadata": {},
   "source": [
    "We can guess the scroll height of the Next Page element and try it out."
   ]
  },
  {
   "cell_type": "code",
   "execution_count": null,
   "id": "466ba36c-3224-45e9-badb-200338ae779b",
   "metadata": {},
   "outputs": [],
   "source": [
    "driver.execute_script(\"window.scrollTo(0, 1000);\")"
   ]
  },
  {
   "cell_type": "code",
   "execution_count": null,
   "id": "37162886-3313-4dd0-a6f8-8fb38439b688",
   "metadata": {},
   "outputs": [],
   "source": [
    "next.click()"
   ]
  },
  {
   "cell_type": "code",
   "execution_count": null,
   "id": "19486ba2-606f-4819-8900-efe286242f1e",
   "metadata": {},
   "outputs": [],
   "source": [
    "driver.back()"
   ]
  },
  {
   "cell_type": "markdown",
   "id": "3c103208-32f9-46f8-88ae-644b74fc61e0",
   "metadata": {},
   "source": [
    "Another workaround is to use the execute_script. Unlike the previous method which is driven by the webdriver element click, this method executes the click via JavaScript."
   ]
  },
  {
   "cell_type": "code",
   "execution_count": null,
   "id": "5aecf9fb-78a5-43cf-b63a-a739f8680e28",
   "metadata": {},
   "outputs": [],
   "source": [
    "driver.execute_script(\"arguments[0].click();\", next)"
   ]
  },
  {
   "cell_type": "code",
   "execution_count": null,
   "id": "70232a15-6294-43c2-9115-3c5931384523",
   "metadata": {},
   "outputs": [],
   "source": [
    "driver.back()"
   ]
  },
  {
   "cell_type": "markdown",
   "id": "b0df53da-01a9-42d4-bd68-532c0dc6bb28",
   "metadata": {},
   "source": [
    "The StaleElementReferenceException is a common error that we encounter while testing web applications using Selenium. When we reference a stale element, Selenium throws the StaleElementReferenceException. An element becomes stale due to a page refresh or DOM update. JavaScript still executes the click though so we can include a safeguard for this exception, similar to what we did for the TimeOutException."
   ]
  },
  {
   "cell_type": "code",
   "execution_count": null,
   "id": "ce34fe0d-4a87-4015-b05a-42d93ff6b342",
   "metadata": {},
   "outputs": [],
   "source": [
    "from selenium.common.exceptions import StaleElementReferenceException"
   ]
  },
  {
   "cell_type": "code",
   "execution_count": null,
   "id": "1ba5acf2-ca36-4ac4-8c67-2d30bd0d5f30",
   "metadata": {},
   "outputs": [],
   "source": [
    "try:\n",
    "    next_link = WebDriverWait(driver, 5).until(EC.element_to_be_clickable((By.LINK_TEXT, \"Next Page\")))\n",
    "    driver.execute_script(\"arguments[0].click();\", next_link)\n",
    "except TimeoutException:\n",
    "    next_link = []\n",
    "    print(\"timeout\")\n",
    "except StaleElementReferenceException:\n",
    "    next_link = []\n",
    "    print(\"stale\")"
   ]
  },
  {
   "cell_type": "code",
   "execution_count": null,
   "id": "c10bb028-1460-4996-88dd-355fb6280bc1",
   "metadata": {},
   "outputs": [],
   "source": [
    "driver.back()"
   ]
  },
  {
   "cell_type": "markdown",
   "id": "f9f90ecf-4b06-4b10-b76c-cd6be4d6c1f8",
   "metadata": {},
   "source": [
    "#### Putting everything together\n",
    "Why is this useful? Suppose you want to gather the entire list of players along with their passing yards. We need to iteratively navigate to the next page."
   ]
  },
  {
   "cell_type": "code",
   "execution_count": null,
   "id": "5774603a-381d-4d5b-b82c-dec5ce1bf8de",
   "metadata": {},
   "outputs": [],
   "source": [
    "# Retrieving and saving list of players and their passing yards on the first page\n",
    "players = driver.find_elements(By.CLASS_NAME, \"d3-o-media-object__body\")\n",
    "players_list = [p.text for p in players]\n",
    "yds = driver.find_elements(By.CLASS_NAME, \"selected\")\n",
    "yds_list = [y.text for y in yds]"
   ]
  },
  {
   "cell_type": "code",
   "execution_count": null,
   "id": "16d46744-ed7f-4287-ba90-b9e37a14a2de",
   "metadata": {},
   "outputs": [],
   "source": [
    "while True:\n",
    "    try:\n",
    "        next_link = WebDriverWait(driver, 10).until(EC.element_to_be_clickable((By.LINK_TEXT, \"Next Page\")))\n",
    "        driver.execute_script(\"arguments[0].click();\", next_link)\n",
    "        players = driver.find_elements(By.CLASS_NAME, \"d3-o-media-object__body\")\n",
    "        players_list = players_list + [p.text for p in players]\n",
    "        yds = driver.find_elements(By.CLASS_NAME, \"selected\")\n",
    "        yds_list = yds_list + [y.text for y in yds]\n",
    "    except TimeoutException:\n",
    "        players = driver.find_elements(By.CLASS_NAME, \"d3-o-media-object__body\")\n",
    "        players_list = players_list + [p.text for p in players]\n",
    "        yds = driver.find_elements(By.CLASS_NAME, \"selected\")\n",
    "        yds_list = yds_list + [y.text for y in yds]\n",
    "        print(\"timeout\")\n",
    "        break\n",
    "    except StaleElementReferenceException:\n",
    "        continue"
   ]
  },
  {
   "cell_type": "code",
   "execution_count": null,
   "id": "c8ddac0a-e497-4de5-aab4-e7443d0331eb",
   "metadata": {},
   "outputs": [],
   "source": [
    "df = pd.DataFrame()\n",
    "df[\"player\"] = players_list\n",
    "df[\"yds\"] = yds_list"
   ]
  },
  {
   "cell_type": "code",
   "execution_count": null,
   "id": "9db7a04c-9124-4184-9266-84b08019461a",
   "metadata": {},
   "outputs": [],
   "source": [
    "df"
   ]
  },
  {
   "cell_type": "code",
   "execution_count": null,
   "id": "e74fe559-75bf-45ca-9fc2-c94dca5cf55b",
   "metadata": {},
   "outputs": [],
   "source": [
    "driver.quit()"
   ]
  },
  {
   "cell_type": "markdown",
   "id": "4cff3e55-dad2-451d-966d-838a1c88ed3f",
   "metadata": {},
   "source": [
    "### Practice\n",
    "\n",
    "1. Retrieve other player stats for Year 2023.\n",
    "2. Repeat the process for previous years til 2020. "
   ]
  },
  {
   "cell_type": "code",
   "execution_count": null,
   "id": "fc5ab434-d3e9-4db0-9269-8f99b6a39cf4",
   "metadata": {},
   "outputs": [],
   "source": []
  },
  {
   "cell_type": "code",
   "execution_count": null,
   "id": "a1929e5f-3bd7-49c2-83d7-43ca2acc263c",
   "metadata": {},
   "outputs": [],
   "source": []
  },
  {
   "cell_type": "code",
   "execution_count": null,
   "id": "f97a2f73-3d72-4402-8cb7-92c76446de6b",
   "metadata": {},
   "outputs": [],
   "source": []
  }
 ],
 "metadata": {
  "kernelspec": {
   "display_name": "Python 3 (ipykernel)",
   "language": "python",
   "name": "python3"
  },
  "language_info": {
   "codemirror_mode": {
    "name": "ipython",
    "version": 3
   },
   "file_extension": ".py",
   "mimetype": "text/x-python",
   "name": "python",
   "nbconvert_exporter": "python",
   "pygments_lexer": "ipython3",
   "version": "3.9.19"
  }
 },
 "nbformat": 4,
 "nbformat_minor": 5
}
